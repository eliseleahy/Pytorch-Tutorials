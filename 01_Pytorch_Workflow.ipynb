{
  "nbformat": 4,
  "nbformat_minor": 0,
  "metadata": {
    "colab": {
      "provenance": [],
      "authorship_tag": "ABX9TyPUucdkjJUStRp/ZBqsqucL",
      "include_colab_link": true
    },
    "kernelspec": {
      "name": "python3",
      "display_name": "Python 3"
    },
    "language_info": {
      "name": "python"
    },
    "gpuClass": "standard"
  },
  "cells": [
    {
      "cell_type": "markdown",
      "metadata": {
        "id": "view-in-github",
        "colab_type": "text"
      },
      "source": [
        "<a href=\"https://colab.research.google.com/github/eliseleahy/Pytorch-Tutorials/blob/main/01_Pytorch_Workflow.ipynb\" target=\"_parent\"><img src=\"https://colab.research.google.com/assets/colab-badge.svg\" alt=\"Open In Colab\"/></a>"
      ]
    },
    {
      "cell_type": "markdown",
      "source": [
        "## PyTorch Workflow\n",
        "\n",
        "Let's explore a an example PyTorch end-to-end workflow. "
      ],
      "metadata": {
        "id": "1hYL5jx1jL-T"
      }
    },
    {
      "cell_type": "code",
      "source": [
        "What_were_covering = {1: \"data (prepare and load)\", \n",
        "                      2: \"building model\", \n",
        "                      3: \"fitting the model to data (training)\", \n",
        "                      4: \"making predictions and evaluting a model (inference)\", \n",
        "                      5: \"saving and loading a model\", \n",
        "                      6: \"putting it all together\"\n",
        "                      }\n",
        "\n",
        "What_were_covering"
      ],
      "metadata": {
        "colab": {
          "base_uri": "https://localhost:8080/"
        },
        "id": "3s8i_SACsq3k",
        "outputId": "b51a938b-2e2c-40bd-e88f-4a0e71bd70ab"
      },
      "execution_count": 1,
      "outputs": [
        {
          "output_type": "execute_result",
          "data": {
            "text/plain": [
              "{1: 'data (prepare and load)',\n",
              " 2: 'building model',\n",
              " 3: 'fitting the model to data (training)',\n",
              " 4: 'making predictions and evaluting a model (inference)',\n",
              " 5: 'saving and loading a model',\n",
              " 6: 'putting it all together'}"
            ]
          },
          "metadata": {},
          "execution_count": 1
        }
      ]
    },
    {
      "cell_type": "code",
      "source": [
        "import torch\n",
        "from torch import nn # nn contains all of PyTorch's building blocks for neural networks\n",
        "import matplotlib.pyplot as plt\n",
        "\n",
        "# Check PyTorch version\n",
        "torch.__version__"
      ],
      "metadata": {
        "colab": {
          "base_uri": "https://localhost:8080/",
          "height": 36
        },
        "id": "cjuOuFIitw3E",
        "outputId": "1f26be72-8d76-4b2d-a97e-dc4e7a301532"
      },
      "execution_count": 2,
      "outputs": [
        {
          "output_type": "execute_result",
          "data": {
            "text/plain": [
              "'1.13.1+cu116'"
            ],
            "application/vnd.google.colaboratory.intrinsic+json": {
              "type": "string"
            }
          },
          "metadata": {},
          "execution_count": 2
        }
      ]
    },
    {
      "cell_type": "markdown",
      "source": [
        "## 1. Data (preparing and loading)\n",
        "\n",
        "Data can be almost anything in machine learning. \n",
        "* Excel spreadsheet\n",
        "* Images\n",
        "* Videos\n",
        "* Audio\n",
        "* DNA\n",
        "* Text\n",
        "\n",
        "Machine learning is a game of two parts:\n",
        "1. get data into a numerical representation\n",
        "2. build a model to learn patterns in that numerical representation\n",
        "\n",
        "To showcase this, lets create some *known* data using the linear regression forumla. \n"
      ],
      "metadata": {
        "id": "iIrJh7rhvYeB"
      }
    },
    {
      "cell_type": "code",
      "source": [
        "#Create *Known* parameters\n",
        "weight = 0.7\n",
        "bias = 0.3\n",
        "\n",
        "# create \n",
        "start = 0\n",
        "end = 1\n",
        "step = 0.02\n",
        "\n",
        "X = torch.arange(start,end,step).unsqueeze(dim=1) #unsqueeze adds extra dimension\n",
        "y=weight*X +bias\n",
        "\n",
        "X[:10], y[:10], len(X), len(y)"
      ],
      "metadata": {
        "colab": {
          "base_uri": "https://localhost:8080/"
        },
        "id": "SXlMYG3Mvhlx",
        "outputId": "06109884-d646-4301-8a1f-ccbf29cc6b6d"
      },
      "execution_count": 3,
      "outputs": [
        {
          "output_type": "execute_result",
          "data": {
            "text/plain": [
              "(tensor([[0.0000],\n",
              "         [0.0200],\n",
              "         [0.0400],\n",
              "         [0.0600],\n",
              "         [0.0800],\n",
              "         [0.1000],\n",
              "         [0.1200],\n",
              "         [0.1400],\n",
              "         [0.1600],\n",
              "         [0.1800]]), tensor([[0.3000],\n",
              "         [0.3140],\n",
              "         [0.3280],\n",
              "         [0.3420],\n",
              "         [0.3560],\n",
              "         [0.3700],\n",
              "         [0.3840],\n",
              "         [0.3980],\n",
              "         [0.4120],\n",
              "         [0.4260]]), 50, 50)"
            ]
          },
          "metadata": {},
          "execution_count": 3
        }
      ]
    },
    {
      "cell_type": "markdown",
      "source": [
        "### Splitting data into training and test sets (!IMPORTANT!)\n",
        "\n",
        "Lets create a traing and test set with out data. "
      ],
      "metadata": {
        "id": "oj3y6doFx-kh"
      }
    },
    {
      "cell_type": "code",
      "source": [
        "# Create train/test split\n",
        "train_split=int(0.8*len(X))\n",
        "X_train, y_train = X[:train_split], y[:train_split]\n",
        "X_test, y_test = X[train_split:], y[train_split:]\n",
        "\n",
        "len(X_train), len(y_train), len(X_test), len(y_test)"
      ],
      "metadata": {
        "colab": {
          "base_uri": "https://localhost:8080/"
        },
        "id": "qutwflXWyjxh",
        "outputId": "4b8963eb-ec20-4c2c-82df-a7d468ac34db"
      },
      "execution_count": 4,
      "outputs": [
        {
          "output_type": "execute_result",
          "data": {
            "text/plain": [
              "(40, 40, 10, 10)"
            ]
          },
          "metadata": {},
          "execution_count": 4
        }
      ]
    },
    {
      "cell_type": "markdown",
      "source": [
        "How might we better visualise our data!"
      ],
      "metadata": {
        "id": "K7Kb9Y4f2NWN"
      }
    },
    {
      "cell_type": "code",
      "source": [
        "def plot_predictions(train_data=X_train,\n",
        "                     train_labels=y_train, \n",
        "                     test_data=X_test,\n",
        "                     test_labels=y_test, \n",
        "                     predictions=None):\n",
        "  \"\"\"\n",
        "  Plots training data, test data and compares predictions\n",
        "  \"\"\"\n",
        "  plt.figure(figsize=(10,7))\n",
        "\n",
        "  plt.scatter(train_data, train_labels, c=\"b\", s=4, label=\"Training data\")\n",
        "  plt.scatter(test_data, test_labels, c=\"g\", s=4, label=\"Testing data\")\n",
        "\n",
        "  #Are there predictions\n",
        "  if predictions is not None:\n",
        "    plt.scatter(test_data, predictions, c=\"r\", s=4, label=\"Predictions\")\n",
        "\n",
        "  #Show legend\n",
        "  plt.legend(prop={\"size\":14});\n"
      ],
      "metadata": {
        "id": "b4aB40_82Uhk"
      },
      "execution_count": 5,
      "outputs": []
    },
    {
      "cell_type": "code",
      "source": [
        "plot_predictions();"
      ],
      "metadata": {
        "colab": {
          "base_uri": "https://localhost:8080/",
          "height": 428
        },
        "id": "4C76OQvF3ld1",
        "outputId": "7227c36d-d7f0-479c-e01a-b399f599f7bb"
      },
      "execution_count": 6,
      "outputs": [
        {
          "output_type": "display_data",
          "data": {
            "text/plain": [
              "<Figure size 720x504 with 1 Axes>"
            ],
            "image/png": "[encoded data removed]"
          },
          "metadata": {
            "needs_background": "light"
          }
        }
      ]
    },
    {
      "cell_type": "markdown",
      "source": [
        "## 2. Building Model\n",
        "\n",
        "Our first pytorch model\n",
        "\n",
        "What our model does:\n",
        "* Start with rnadom values (weight and bias)\n",
        "* Look at training data and adjust the random values to better represent the ideal values\n",
        "\n",
        "How? \n",
        "\n",
        "Through two main algoritms: \n",
        "1. Gradient descent\n",
        "2. Backpropogation"
      ],
      "metadata": {
        "id": "Uf90MjnD4bqM"
      }
    },
    {
      "cell_type": "code",
      "source": [
        "# Create a linear regression model class\n",
        "\n",
        "class LinearRegressionModel(nn.Module): #<- everything from pytorch inherits from nn.modules \n",
        "  def __init__(self):\n",
        "    super().__init__()\n",
        "    self.weights = nn.Parameter(torch.randn(1, \n",
        "                                            requires_grad=True, \n",
        "                                            dtype=torch.float))\n",
        "    self.bias = nn.Parameter(torch.randn(1, \n",
        "                                            requires_grad=True, \n",
        "                                            dtype=torch.float))\n",
        "    \n",
        "  #Forward method to define the computation in the model\n",
        "  def forward(self, x: torch.Tensor) -> torch.Tensor: #<- y\n",
        "    return self.weights *x + self.bias\n"
      ],
      "metadata": {
        "id": "6qztqJR-szXT"
      },
      "execution_count": 7,
      "outputs": []
    },
    {
      "cell_type": "markdown",
      "source": [
        "## PyTorch Model building essentials \n",
        "\n",
        "* torch.nn - contains all of the building blocks for computational graphs (a neural network can be considered a computational graph)\n",
        "* torch.nn.Parameter - what parameters should our model try and learn, often a PyTorch layer from torch.nn will set these. \n",
        "* torch.nn.Module - the base class for all nueal network modules, if you subclass it, you should overwrite forward()\n",
        "* torch.optim - this is where the optimizers live and will help with gradient descent \n",
        "* def forward() - All nn.Module subclasses require you to overwrite forward(), this method defines what happens in the forward computation"
      ],
      "metadata": {
        "id": "GAhgP5-8_Deq"
      }
    },
    {
      "cell_type": "markdown",
      "source": [
        "### Checking the contents of our PyTorch model\n",
        "\n",
        "Can check whats inside model using .paramters()"
      ],
      "metadata": {
        "id": "bCUaBBQ_Bobu"
      }
    },
    {
      "cell_type": "code",
      "source": [
        "#Create random seed\n",
        "\n",
        "torch.manual_seed(42)\n",
        "\n",
        "#Create an instance of the model (this is a subclass of nn.Module)\n",
        "model_0 = LinearRegressionModel()\n",
        "\n",
        "#Check out parameters\n",
        "list(model_0.parameters())"
      ],
      "metadata": {
        "colab": {
          "base_uri": "https://localhost:8080/"
        },
        "id": "U7JN2Zl2FMDn",
        "outputId": "b5c49e69-75fe-4570-e2a4-5c3b7d133e39"
      },
      "execution_count": 8,
      "outputs": [
        {
          "output_type": "execute_result",
          "data": {
            "text/plain": [
              "[Parameter containing:\n",
              " tensor([0.3367], requires_grad=True), Parameter containing:\n",
              " tensor([0.1288], requires_grad=True)]"
            ]
          },
          "metadata": {},
          "execution_count": 8
        }
      ]
    },
    {
      "cell_type": "code",
      "source": [
        "# List name paramters\n",
        "model_0.state_dict()"
      ],
      "metadata": {
        "colab": {
          "base_uri": "https://localhost:8080/"
        },
        "id": "_u_0pNjeHALj",
        "outputId": "ca59159f-ef29-4aaf-e5eb-8b6bde2acf6a"
      },
      "execution_count": 9,
      "outputs": [
        {
          "output_type": "execute_result",
          "data": {
            "text/plain": [
              "OrderedDict([('weights', tensor([0.3367])), ('bias', tensor([0.1288]))])"
            ]
          },
          "metadata": {},
          "execution_count": 9
        }
      ]
    },
    {
      "cell_type": "markdown",
      "source": [
        "### Making prediction using 'torch.inference_mode()'\n",
        "\n",
        "To check our models's predictive power, lets see how well it predicts y test and x test\n",
        "\n",
        "When we pass data through our model it will run it through our forward model\n",
        "\n"
      ],
      "metadata": {
        "id": "2lC8wX7QHIHT"
      }
    },
    {
      "cell_type": "code",
      "source": [
        "X_test"
      ],
      "metadata": {
        "colab": {
          "base_uri": "https://localhost:8080/"
        },
        "id": "baZl-_WtIU8T",
        "outputId": "8e9f6403-7b8b-413c-c912-02f8ae6020d0"
      },
      "execution_count": 10,
      "outputs": [
        {
          "output_type": "execute_result",
          "data": {
            "text/plain": [
              "tensor([[0.8000],\n",
              "        [0.8200],\n",
              "        [0.8400],\n",
              "        [0.8600],\n",
              "        [0.8800],\n",
              "        [0.9000],\n",
              "        [0.9200],\n",
              "        [0.9400],\n",
              "        [0.9600],\n",
              "        [0.9800]])"
            ]
          },
          "metadata": {},
          "execution_count": 10
        }
      ]
    },
    {
      "cell_type": "code",
      "source": [
        "# Make predictions with model\n",
        "\n",
        "with torch.inference_mode():\n",
        "  y_preds = model_0(X_test)\n",
        "\n",
        "# You can also do something similar with torch.no_grad inference mode is pereferred\n",
        "#with torch.no_grad():\n",
        "#  y_preds = model_0(X_test)\n",
        "\n",
        "y_preds"
      ],
      "metadata": {
        "colab": {
          "base_uri": "https://localhost:8080/"
        },
        "id": "nOt3CoSFIFDN",
        "outputId": "979cd15b-84ab-4276-8def-4bbd5a298daf"
      },
      "execution_count": 11,
      "outputs": [
        {
          "output_type": "execute_result",
          "data": {
            "text/plain": [
              "tensor([[0.3982],\n",
              "        [0.4049],\n",
              "        [0.4116],\n",
              "        [0.4184],\n",
              "        [0.4251],\n",
              "        [0.4318],\n",
              "        [0.4386],\n",
              "        [0.4453],\n",
              "        [0.4520],\n",
              "        [0.4588]])"
            ]
          },
          "metadata": {},
          "execution_count": 11
        }
      ]
    },
    {
      "cell_type": "code",
      "source": [
        "plot_predictions(predictions=y_preds)"
      ],
      "metadata": {
        "colab": {
          "base_uri": "https://localhost:8080/",
          "height": 428
        },
        "id": "WFdGbFCdYaD2",
        "outputId": "c8fcba06-71e2-439b-b6cc-9dcd40d17fdb"
      },
      "execution_count": 12,
      "outputs": [
        {
          "output_type": "display_data",
          "data": {
            "text/plain": [
              "<Figure size 720x504 with 1 Axes>"
            ],
            "image/png": "[encoded data removed]"
          },
          "metadata": {
            "needs_background": "light"
          }
        }
      ]
    },
    {
      "cell_type": "markdown",
      "source": [
        "## 3. Train model\n",
        "\n",
        "One way to measure how poor or how wring the models predictions are is to use a loss function \n",
        "\n",
        "* note: loss function may also be called cost function or criterion in our case we will refer to it as a loss function \n",
        "\n",
        "Things we need to train:\n",
        "\n",
        "* **Loss function:** A function to measure how winr your models predictions are compared to your models output -> lower is better\n",
        "* **Optimiser:** takes into account the loss of a model and adjusts the models paraters (e.g. weight and bias) to imporve the loss function \n",
        "\n",
        "And specically for PyTorch we need a:\n",
        "* a training loop\n",
        "* a testing loop\n"
      ],
      "metadata": {
        "id": "XCCdQ2FxaBTx"
      }
    },
    {
      "cell_type": "code",
      "source": [
        "model_0.state_dict()"
      ],
      "metadata": {
        "colab": {
          "base_uri": "https://localhost:8080/"
        },
        "id": "Da53VtRLakcO",
        "outputId": "9aa453a2-1647-4f0f-a9a0-415573591aaa"
      },
      "execution_count": 13,
      "outputs": [
        {
          "output_type": "execute_result",
          "data": {
            "text/plain": [
              "OrderedDict([('weights', tensor([0.3367])), ('bias', tensor([0.1288]))])"
            ]
          },
          "metadata": {},
          "execution_count": 13
        }
      ]
    },
    {
      "cell_type": "code",
      "source": [
        "abs(y_preds[0]-y_test[0])"
      ],
      "metadata": {
        "id": "5zGMRzfKbb1B",
        "outputId": "2d51bf45-7010-49ef-d325-1071b7bb405b",
        "colab": {
          "base_uri": "https://localhost:8080/"
        }
      },
      "execution_count": 14,
      "outputs": [
        {
          "output_type": "execute_result",
          "data": {
            "text/plain": [
              "tensor([0.4618])"
            ]
          },
          "metadata": {},
          "execution_count": 14
        }
      ]
    },
    {
      "cell_type": "code",
      "source": [
        "# Set up a loss function \n",
        "loss_fn = nn.L1Loss()\n",
        "\n",
        "# Set up an optimiser (sgd - stochastic gradient descent)\n",
        "optimizer = torch.optim.SGD(params = model_0.parameters(), \n",
        "                            lr =0.01) # lr = leanring rate = most important hyper parameters\n",
        "\n"
      ],
      "metadata": {
        "id": "5OpGxmav7y5-"
      },
      "execution_count": 15,
      "outputs": []
    },
    {
      "cell_type": "markdown",
      "source": [
        "### Building a Training and Testing Loop\n",
        "\n",
        "Things needed in a training loop:\n",
        "0. Loop through the data\n",
        "1. Forward pass (This involves data moveing through our models forward() functions (also called forward propogations)\n",
        "2. Calculate loss\n",
        "3. Optiser zero grad\n",
        "4. Loss backward - move backwards through the network to calculate the gradients of each pf the paremters with repsect to loss (**back propogation**)\n",
        "5. Optimiser step - use optimiser to adjust model paramters to reduce loss (**gradient descent**)"
      ],
      "metadata": {
        "id": "heYjZmvT_MJM"
      }
    },
    {
      "cell_type": "code",
      "source": [
        "#from torch.optim import optimizer\n",
        "# An epoch is one loop through the data.... (hyper paramter as we've set it ourselves)\n",
        "epochs = 200\n",
        "## Training \n",
        "# 0. loop through the data \n",
        "for epoch in range(epochs):\n",
        "  # Set the model to training model\n",
        "  model_0.train() # train mode in OyTorch sets all paremters that require gardients to require gradients\n",
        "\n",
        "  # 1. forward pass\n",
        "  y_pred = model_0(X_train)\n",
        "\n",
        "  # 2. calulate loss\n",
        "  loss = loss_fn(y_pred, y_train)\n",
        "  print(loss)\n",
        "\n",
        "  # 3. Optimiser zero grad\n",
        "  optimizer.zero_grad()\n",
        "\n",
        "  # 4. Perform backward propogation on loss to paramter of the model\n",
        "  loss.backward()\n",
        "\n",
        "  # 5. Step the optimiser (perform gradient descent)\n",
        "  optimizer.step() # by defluat tell the optimiser changes will accumlate through the loop so.. we ahve to change them to zero in step 3\n",
        "\n",
        "  model_0.eval() # turns off gradient tracker\n",
        "\n",
        "print(model_0.state_dict())\n"
      ],
      "metadata": {
        "id": "ehdBFECW_QnW",
        "outputId": "a48a36c1-ea16-4317-8a5c-6351b18a2dc4",
        "colab": {
          "base_uri": "https://localhost:8080/"
        }
      },
      "execution_count": 66,
      "outputs": [
        {
          "output_type": "stream",
          "name": "stdout",
          "text": [
            "tensor(0.0438, grad_fn=<MeanBackward0>)\n",
            "tensor(0.0434, grad_fn=<MeanBackward0>)\n",
            "tensor(0.0431, grad_fn=<MeanBackward0>)\n",
            "tensor(0.0427, grad_fn=<MeanBackward0>)\n",
            "tensor(0.0424, grad_fn=<MeanBackward0>)\n",
            "tensor(0.0420, grad_fn=<MeanBackward0>)\n",
            "tensor(0.0417, grad_fn=<MeanBackward0>)\n",
            "tensor(0.0413, grad_fn=<MeanBackward0>)\n",
            "tensor(0.0410, grad_fn=<MeanBackward0>)\n",
            "tensor(0.0406, grad_fn=<MeanBackward0>)\n",
            "tensor(0.0403, grad_fn=<MeanBackward0>)\n",
            "tensor(0.0399, grad_fn=<MeanBackward0>)\n",
            "tensor(0.0396, grad_fn=<MeanBackward0>)\n",
            "tensor(0.0392, grad_fn=<MeanBackward0>)\n",
            "tensor(0.0389, grad_fn=<MeanBackward0>)\n",
            "tensor(0.0385, grad_fn=<MeanBackward0>)\n",
            "tensor(0.0382, grad_fn=<MeanBackward0>)\n",
            "tensor(0.0379, grad_fn=<MeanBackward0>)\n",
            "tensor(0.0375, grad_fn=<MeanBackward0>)\n",
            "tensor(0.0372, grad_fn=<MeanBackward0>)\n",
            "tensor(0.0368, grad_fn=<MeanBackward0>)\n",
            "tensor(0.0365, grad_fn=<MeanBackward0>)\n",
            "tensor(0.0361, grad_fn=<MeanBackward0>)\n",
            "tensor(0.0358, grad_fn=<MeanBackward0>)\n",
            "tensor(0.0354, grad_fn=<MeanBackward0>)\n",
            "tensor(0.0351, grad_fn=<MeanBackward0>)\n",
            "tensor(0.0348, grad_fn=<MeanBackward0>)\n",
            "tensor(0.0344, grad_fn=<MeanBackward0>)\n",
            "tensor(0.0341, grad_fn=<MeanBackward0>)\n",
            "tensor(0.0337, grad_fn=<MeanBackward0>)\n",
            "tensor(0.0334, grad_fn=<MeanBackward0>)\n",
            "tensor(0.0330, grad_fn=<MeanBackward0>)\n",
            "tensor(0.0327, grad_fn=<MeanBackward0>)\n",
            "tensor(0.0324, grad_fn=<MeanBackward0>)\n",
            "tensor(0.0320, grad_fn=<MeanBackward0>)\n",
            "tensor(0.0317, grad_fn=<MeanBackward0>)\n",
            "tensor(0.0313, grad_fn=<MeanBackward0>)\n",
            "tensor(0.0310, grad_fn=<MeanBackward0>)\n",
            "tensor(0.0306, grad_fn=<MeanBackward0>)\n",
            "tensor(0.0303, grad_fn=<MeanBackward0>)\n",
            "tensor(0.0300, grad_fn=<MeanBackward0>)\n",
            "tensor(0.0296, grad_fn=<MeanBackward0>)\n",
            "tensor(0.0293, grad_fn=<MeanBackward0>)\n",
            "tensor(0.0289, grad_fn=<MeanBackward0>)\n",
            "tensor(0.0286, grad_fn=<MeanBackward0>)\n",
            "tensor(0.0282, grad_fn=<MeanBackward0>)\n",
            "tensor(0.0279, grad_fn=<MeanBackward0>)\n",
            "tensor(0.0275, grad_fn=<MeanBackward0>)\n",
            "tensor(0.0272, grad_fn=<MeanBackward0>)\n",
            "tensor(0.0269, grad_fn=<MeanBackward0>)\n",
            "tensor(0.0265, grad_fn=<MeanBackward0>)\n",
            "tensor(0.0262, grad_fn=<MeanBackward0>)\n",
            "tensor(0.0258, grad_fn=<MeanBackward0>)\n",
            "tensor(0.0255, grad_fn=<MeanBackward0>)\n",
            "tensor(0.0251, grad_fn=<MeanBackward0>)\n",
            "tensor(0.0248, grad_fn=<MeanBackward0>)\n",
            "tensor(0.0245, grad_fn=<MeanBackward0>)\n",
            "tensor(0.0241, grad_fn=<MeanBackward0>)\n",
            "tensor(0.0238, grad_fn=<MeanBackward0>)\n",
            "tensor(0.0234, grad_fn=<MeanBackward0>)\n",
            "tensor(0.0231, grad_fn=<MeanBackward0>)\n",
            "tensor(0.0227, grad_fn=<MeanBackward0>)\n",
            "tensor(0.0224, grad_fn=<MeanBackward0>)\n",
            "tensor(0.0221, grad_fn=<MeanBackward0>)\n",
            "tensor(0.0217, grad_fn=<MeanBackward0>)\n",
            "tensor(0.0214, grad_fn=<MeanBackward0>)\n",
            "tensor(0.0210, grad_fn=<MeanBackward0>)\n",
            "tensor(0.0207, grad_fn=<MeanBackward0>)\n",
            "tensor(0.0203, grad_fn=<MeanBackward0>)\n",
            "tensor(0.0200, grad_fn=<MeanBackward0>)\n",
            "tensor(0.0196, grad_fn=<MeanBackward0>)\n",
            "tensor(0.0193, grad_fn=<MeanBackward0>)\n",
            "tensor(0.0190, grad_fn=<MeanBackward0>)\n",
            "tensor(0.0186, grad_fn=<MeanBackward0>)\n",
            "tensor(0.0183, grad_fn=<MeanBackward0>)\n",
            "tensor(0.0179, grad_fn=<MeanBackward0>)\n",
            "tensor(0.0176, grad_fn=<MeanBackward0>)\n",
            "tensor(0.0172, grad_fn=<MeanBackward0>)\n",
            "tensor(0.0169, grad_fn=<MeanBackward0>)\n",
            "tensor(0.0166, grad_fn=<MeanBackward0>)\n",
            "tensor(0.0162, grad_fn=<MeanBackward0>)\n",
            "tensor(0.0159, grad_fn=<MeanBackward0>)\n",
            "tensor(0.0155, grad_fn=<MeanBackward0>)\n",
            "tensor(0.0152, grad_fn=<MeanBackward0>)\n",
            "tensor(0.0148, grad_fn=<MeanBackward0>)\n",
            "tensor(0.0145, grad_fn=<MeanBackward0>)\n",
            "tensor(0.0142, grad_fn=<MeanBackward0>)\n",
            "tensor(0.0138, grad_fn=<MeanBackward0>)\n",
            "tensor(0.0135, grad_fn=<MeanBackward0>)\n",
            "tensor(0.0131, grad_fn=<MeanBackward0>)\n",
            "tensor(0.0128, grad_fn=<MeanBackward0>)\n",
            "tensor(0.0124, grad_fn=<MeanBackward0>)\n",
            "tensor(0.0121, grad_fn=<MeanBackward0>)\n",
            "tensor(0.0118, grad_fn=<MeanBackward0>)\n",
            "tensor(0.0114, grad_fn=<MeanBackward0>)\n",
            "tensor(0.0111, grad_fn=<MeanBackward0>)\n",
            "tensor(0.0107, grad_fn=<MeanBackward0>)\n",
            "tensor(0.0104, grad_fn=<MeanBackward0>)\n",
            "tensor(0.0100, grad_fn=<MeanBackward0>)\n",
            "tensor(0.0097, grad_fn=<MeanBackward0>)\n",
            "tensor(0.0093, grad_fn=<MeanBackward0>)\n",
            "tensor(0.0090, grad_fn=<MeanBackward0>)\n",
            "tensor(0.0087, grad_fn=<MeanBackward0>)\n",
            "tensor(0.0083, grad_fn=<MeanBackward0>)\n",
            "tensor(0.0080, grad_fn=<MeanBackward0>)\n",
            "tensor(0.0076, grad_fn=<MeanBackward0>)\n",
            "tensor(0.0073, grad_fn=<MeanBackward0>)\n",
            "tensor(0.0069, grad_fn=<MeanBackward0>)\n",
            "tensor(0.0066, grad_fn=<MeanBackward0>)\n",
            "tensor(0.0063, grad_fn=<MeanBackward0>)\n",
            "tensor(0.0059, grad_fn=<MeanBackward0>)\n",
            "tensor(0.0056, grad_fn=<MeanBackward0>)\n",
            "tensor(0.0052, grad_fn=<MeanBackward0>)\n",
            "tensor(0.0049, grad_fn=<MeanBackward0>)\n",
            "tensor(0.0045, grad_fn=<MeanBackward0>)\n",
            "tensor(0.0042, grad_fn=<MeanBackward0>)\n",
            "tensor(0.0039, grad_fn=<MeanBackward0>)\n",
            "tensor(0.0035, grad_fn=<MeanBackward0>)\n",
            "tensor(0.0032, grad_fn=<MeanBackward0>)\n",
            "tensor(0.0028, grad_fn=<MeanBackward0>)\n",
            "tensor(0.0025, grad_fn=<MeanBackward0>)\n",
            "tensor(0.0021, grad_fn=<MeanBackward0>)\n",
            "tensor(0.0018, grad_fn=<MeanBackward0>)\n",
            "tensor(0.0015, grad_fn=<MeanBackward0>)\n",
            "tensor(0.0012, grad_fn=<MeanBackward0>)\n",
            "tensor(0.0026, grad_fn=<MeanBackward0>)\n",
            "tensor(0.0089, grad_fn=<MeanBackward0>)\n",
            "tensor(0.0026, grad_fn=<MeanBackward0>)\n",
            "tensor(0.0089, grad_fn=<MeanBackward0>)\n",
            "tensor(0.0026, grad_fn=<MeanBackward0>)\n",
            "tensor(0.0089, grad_fn=<MeanBackward0>)\n",
            "tensor(0.0026, grad_fn=<MeanBackward0>)\n",
            "tensor(0.0089, grad_fn=<MeanBackward0>)\n",
            "tensor(0.0026, grad_fn=<MeanBackward0>)\n",
            "tensor(0.0089, grad_fn=<MeanBackward0>)\n",
            "tensor(0.0026, grad_fn=<MeanBackward0>)\n",
            "tensor(0.0089, grad_fn=<MeanBackward0>)\n",
            "tensor(0.0026, grad_fn=<MeanBackward0>)\n",
            "tensor(0.0089, grad_fn=<MeanBackward0>)\n",
            "tensor(0.0026, grad_fn=<MeanBackward0>)\n",
            "tensor(0.0089, grad_fn=<MeanBackward0>)\n",
            "tensor(0.0026, grad_fn=<MeanBackward0>)\n",
            "tensor(0.0089, grad_fn=<MeanBackward0>)\n",
            "tensor(0.0026, grad_fn=<MeanBackward0>)\n",
            "tensor(0.0089, grad_fn=<MeanBackward0>)\n",
            "tensor(0.0026, grad_fn=<MeanBackward0>)\n",
            "tensor(0.0089, grad_fn=<MeanBackward0>)\n",
            "tensor(0.0026, grad_fn=<MeanBackward0>)\n",
            "tensor(0.0089, grad_fn=<MeanBackward0>)\n",
            "tensor(0.0026, grad_fn=<MeanBackward0>)\n",
            "tensor(0.0089, grad_fn=<MeanBackward0>)\n",
            "tensor(0.0026, grad_fn=<MeanBackward0>)\n",
            "tensor(0.0089, grad_fn=<MeanBackward0>)\n",
            "tensor(0.0026, grad_fn=<MeanBackward0>)\n",
            "tensor(0.0089, grad_fn=<MeanBackward0>)\n",
            "tensor(0.0026, grad_fn=<MeanBackward0>)\n",
            "tensor(0.0089, grad_fn=<MeanBackward0>)\n",
            "tensor(0.0026, grad_fn=<MeanBackward0>)\n",
            "tensor(0.0089, grad_fn=<MeanBackward0>)\n",
            "tensor(0.0026, grad_fn=<MeanBackward0>)\n",
            "tensor(0.0089, grad_fn=<MeanBackward0>)\n",
            "tensor(0.0026, grad_fn=<MeanBackward0>)\n",
            "tensor(0.0089, grad_fn=<MeanBackward0>)\n",
            "tensor(0.0026, grad_fn=<MeanBackward0>)\n",
            "tensor(0.0089, grad_fn=<MeanBackward0>)\n",
            "tensor(0.0026, grad_fn=<MeanBackward0>)\n",
            "tensor(0.0089, grad_fn=<MeanBackward0>)\n",
            "tensor(0.0026, grad_fn=<MeanBackward0>)\n",
            "tensor(0.0089, grad_fn=<MeanBackward0>)\n",
            "tensor(0.0026, grad_fn=<MeanBackward0>)\n",
            "tensor(0.0089, grad_fn=<MeanBackward0>)\n",
            "tensor(0.0026, grad_fn=<MeanBackward0>)\n",
            "tensor(0.0089, grad_fn=<MeanBackward0>)\n",
            "tensor(0.0026, grad_fn=<MeanBackward0>)\n",
            "tensor(0.0089, grad_fn=<MeanBackward0>)\n",
            "tensor(0.0026, grad_fn=<MeanBackward0>)\n",
            "tensor(0.0089, grad_fn=<MeanBackward0>)\n",
            "tensor(0.0026, grad_fn=<MeanBackward0>)\n",
            "tensor(0.0089, grad_fn=<MeanBackward0>)\n",
            "tensor(0.0026, grad_fn=<MeanBackward0>)\n",
            "tensor(0.0089, grad_fn=<MeanBackward0>)\n",
            "tensor(0.0026, grad_fn=<MeanBackward0>)\n",
            "tensor(0.0089, grad_fn=<MeanBackward0>)\n",
            "tensor(0.0026, grad_fn=<MeanBackward0>)\n",
            "tensor(0.0089, grad_fn=<MeanBackward0>)\n",
            "tensor(0.0026, grad_fn=<MeanBackward0>)\n",
            "tensor(0.0089, grad_fn=<MeanBackward0>)\n",
            "tensor(0.0026, grad_fn=<MeanBackward0>)\n",
            "tensor(0.0089, grad_fn=<MeanBackward0>)\n",
            "tensor(0.0026, grad_fn=<MeanBackward0>)\n",
            "tensor(0.0089, grad_fn=<MeanBackward0>)\n",
            "tensor(0.0026, grad_fn=<MeanBackward0>)\n",
            "tensor(0.0089, grad_fn=<MeanBackward0>)\n",
            "tensor(0.0026, grad_fn=<MeanBackward0>)\n",
            "tensor(0.0089, grad_fn=<MeanBackward0>)\n",
            "tensor(0.0026, grad_fn=<MeanBackward0>)\n",
            "tensor(0.0089, grad_fn=<MeanBackward0>)\n",
            "tensor(0.0026, grad_fn=<MeanBackward0>)\n",
            "tensor(0.0089, grad_fn=<MeanBackward0>)\n",
            "tensor(0.0026, grad_fn=<MeanBackward0>)\n",
            "OrderedDict([('weights', tensor([0.6990])), ('bias', tensor([0.3093]))])\n"
          ]
        }
      ]
    },
    {
      "cell_type": "code",
      "source": [
        "model_0.state_dict()"
      ],
      "metadata": {
        "id": "mVjD1CNv_EZm",
        "outputId": "48fce416-1045-4df4-ed2c-50ffeda963b3",
        "colab": {
          "base_uri": "https://localhost:8080/"
        }
      },
      "execution_count": 67,
      "outputs": [
        {
          "output_type": "execute_result",
          "data": {
            "text/plain": [
              "OrderedDict([('weights', tensor([0.6990])), ('bias', tensor([0.3093]))])"
            ]
          },
          "metadata": {},
          "execution_count": 67
        }
      ]
    },
    {
      "cell_type": "code",
      "source": [
        "with torch.inference_mode():\n",
        "  y_preds_new = model_0(X_test)"
      ],
      "metadata": {
        "id": "Fc1qh3Cf_bA_"
      },
      "execution_count": 68,
      "outputs": []
    },
    {
      "cell_type": "code",
      "source": [
        "model_0.state_dict()"
      ],
      "metadata": {
        "id": "RVGvvlgzAoBp"
      },
      "execution_count": null,
      "outputs": []
    },
    {
      "cell_type": "code",
      "source": [
        "plot_predictions(predictions=y_preds_new)"
      ],
      "metadata": {
        "id": "qwvM8g6FAST7",
        "outputId": "2ba43f91-eee9-461c-b899-061b9dc5d630",
        "colab": {
          "base_uri": "https://localhost:8080/",
          "height": 428
        }
      },
      "execution_count": 69,
      "outputs": [
        {
          "output_type": "display_data",
          "data": {
            "text/plain": [
              "<Figure size 720x504 with 1 Axes>"
            ],
            "image/png": "[encoded data removed]"
          },
          "metadata": {
            "needs_background": "light"
          }
        }
      ]
    },
    {
      "cell_type": "code",
      "source": [],
      "metadata": {
        "id": "g2mKuuvoAgi4"
      },
      "execution_count": null,
      "outputs": []
    }
  ]
}