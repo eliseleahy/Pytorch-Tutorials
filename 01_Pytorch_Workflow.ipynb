{
  "nbformat": 4,
  "nbformat_minor": 0,
  "metadata": {
    "colab": {
      "provenance": [],
      "authorship_tag": "ABX9TyMiiq7q9B7jNf7uQaOuYAou",
      "include_colab_link": true
    },
    "kernelspec": {
      "name": "python3",
      "display_name": "Python 3"
    },
    "language_info": {
      "name": "python"
    },
    "gpuClass": "standard"
  },
  "cells": [
    {
      "cell_type": "markdown",
      "metadata": {
        "id": "view-in-github",
        "colab_type": "text"
      },
      "source": [
        "<a href=\"https://colab.research.google.com/github/eliseleahy/Pytorch-Tutorials/blob/main/01_Pytorch_Workflow.ipynb\" target=\"_parent\"><img src=\"https://colab.research.google.com/assets/colab-badge.svg\" alt=\"Open In Colab\"/></a>"
      ]
    },
    {
      "cell_type": "markdown",
      "source": [
        "## PyTorch Workflow\n",
        "\n",
        "Let's explore a an example PyTorch end-to-end workflow. "
      ],
      "metadata": {
        "id": "1hYL5jx1jL-T"
      }
    },
    {
      "cell_type": "code",
      "source": [
        "What_were_covering = {1: \"data (prepare and load)\", \n",
        "                      2: \"building model\", \n",
        "                      3: \"fitting the model to data (training)\", \n",
        "                      4: \"making predictions and evaluting a model (inference)\", \n",
        "                      5: \"saving and loading a model\", \n",
        "                      6: \"putting it all together\"\n",
        "                      }\n",
        "\n",
        "What_were_covering"
      ],
      "metadata": {
        "colab": {
          "base_uri": "https://localhost:8080/"
        },
        "id": "3s8i_SACsq3k",
        "outputId": "bf112b32-3a63-4999-8712-17f3d6c7d1cd"
      },
      "execution_count": 263,
      "outputs": [
        {
          "output_type": "execute_result",
          "data": {
            "text/plain": [
              "{1: 'data (prepare and load)',\n",
              " 2: 'building model',\n",
              " 3: 'fitting the model to data (training)',\n",
              " 4: 'making predictions and evaluting a model (inference)',\n",
              " 5: 'saving and loading a model',\n",
              " 6: 'putting it all together'}"
            ]
          },
          "metadata": {},
          "execution_count": 263
        }
      ]
    },
    {
      "cell_type": "code",
      "source": [
        "import torch\n",
        "from torch import nn # nn contains all of PyTorch's building blocks for neural networks\n",
        "import matplotlib.pyplot as plt\n",
        "\n",
        "# Check PyTorch version\n",
        "torch.__version__"
      ],
      "metadata": {
        "colab": {
          "base_uri": "https://localhost:8080/",
          "height": 0
        },
        "id": "cjuOuFIitw3E",
        "outputId": "25e1bc15-ce53-4813-c99e-ad5cc3bb988f"
      },
      "execution_count": 264,
      "outputs": [
        {
          "output_type": "execute_result",
          "data": {
            "text/plain": [
              "'1.13.1+cu116'"
            ],
            "application/vnd.google.colaboratory.intrinsic+json": {
              "type": "string"
            }
          },
          "metadata": {},
          "execution_count": 264
        }
      ]
    },
    {
      "cell_type": "markdown",
      "source": [
        "## 1. Data (preparing and loading)\n",
        "\n",
        "Data can be almost anything in machine learning. \n",
        "* Excel spreadsheet\n",
        "* Images\n",
        "* Videos\n",
        "* Audio\n",
        "* DNA\n",
        "* Text\n",
        "\n",
        "Machine learning is a game of two parts:\n",
        "1. get data into a numerical representation\n",
        "2. build a model to learn patterns in that numerical representation\n",
        "\n",
        "To showcase this, lets create some *known* data using the linear regression forumla. \n"
      ],
      "metadata": {
        "id": "iIrJh7rhvYeB"
      }
    },
    {
      "cell_type": "code",
      "source": [
        "#Create *Known* parameters\n",
        "weight = 0.7\n",
        "bias = 0.3\n",
        "\n",
        "# create \n",
        "start = 0\n",
        "end = 1\n",
        "step = 0.02\n",
        "\n",
        "X = torch.arange(start,end,step).unsqueeze(dim=1) #unsqueeze adds extra dimension\n",
        "y=weight*X +bias\n",
        "\n",
        "X[:10], y[:10], len(X), len(y)"
      ],
      "metadata": {
        "colab": {
          "base_uri": "https://localhost:8080/"
        },
        "id": "SXlMYG3Mvhlx",
        "outputId": "913ddfba-da7b-4c40-cc2d-2d15dc3b77e3"
      },
      "execution_count": 265,
      "outputs": [
        {
          "output_type": "execute_result",
          "data": {
            "text/plain": [
              "(tensor([[0.0000],\n",
              "         [0.0200],\n",
              "         [0.0400],\n",
              "         [0.0600],\n",
              "         [0.0800],\n",
              "         [0.1000],\n",
              "         [0.1200],\n",
              "         [0.1400],\n",
              "         [0.1600],\n",
              "         [0.1800]]), tensor([[0.3000],\n",
              "         [0.3140],\n",
              "         [0.3280],\n",
              "         [0.3420],\n",
              "         [0.3560],\n",
              "         [0.3700],\n",
              "         [0.3840],\n",
              "         [0.3980],\n",
              "         [0.4120],\n",
              "         [0.4260]]), 50, 50)"
            ]
          },
          "metadata": {},
          "execution_count": 265
        }
      ]
    },
    {
      "cell_type": "markdown",
      "source": [
        "### Splitting data into training and test sets (!IMPORTANT!)\n",
        "\n",
        "Lets create a traing and test set with out data. "
      ],
      "metadata": {
        "id": "oj3y6doFx-kh"
      }
    },
    {
      "cell_type": "code",
      "source": [
        "# Create train/test split\n",
        "train_split=int(0.8*len(X))\n",
        "X_train, y_train = X[:train_split], y[:train_split]\n",
        "X_test, y_test = X[train_split:], y[train_split:]\n",
        "\n",
        "len(X_train), len(y_train), len(X_test), len(y_test)"
      ],
      "metadata": {
        "colab": {
          "base_uri": "https://localhost:8080/"
        },
        "id": "qutwflXWyjxh",
        "outputId": "8fb1f73e-49ba-4a11-de3d-a08b532d67b9"
      },
      "execution_count": 266,
      "outputs": [
        {
          "output_type": "execute_result",
          "data": {
            "text/plain": [
              "(40, 40, 10, 10)"
            ]
          },
          "metadata": {},
          "execution_count": 266
        }
      ]
    },
    {
      "cell_type": "markdown",
      "source": [
        "How might we better visualise our data!"
      ],
      "metadata": {
        "id": "K7Kb9Y4f2NWN"
      }
    },
    {
      "cell_type": "code",
      "source": [
        "def plot_predictions(train_data=X_train,\n",
        "                     train_labels=y_train, \n",
        "                     test_data=X_test,\n",
        "                     test_labels=y_test, \n",
        "                     predictions=None):\n",
        "  \"\"\"\n",
        "  Plots training data, test data and compares predictions\n",
        "  \"\"\"\n",
        "  plt.figure(figsize=(10,7))\n",
        "\n",
        "  plt.scatter(train_data, train_labels, c=\"b\", s=4, label=\"Training data\")\n",
        "  plt.scatter(test_data, test_labels, c=\"g\", s=4, label=\"Testing data\")\n",
        "\n",
        "  #Are there predictions\n",
        "  if predictions is not None:\n",
        "    plt.scatter(test_data, predictions, c=\"r\", s=4, label=\"Predictions\")\n",
        "\n",
        "  #Show legend\n",
        "  plt.legend(prop={\"size\":14});\n"
      ],
      "metadata": {
        "id": "b4aB40_82Uhk"
      },
      "execution_count": 267,
      "outputs": []
    },
    {
      "cell_type": "code",
      "source": [
        "plot_predictions();"
      ],
      "metadata": {
        "colab": {
          "base_uri": "https://localhost:8080/",
          "height": 0
        },
        "id": "4C76OQvF3ld1",
        "outputId": "70cb46ae-ab3d-48e1-8d88-7de3d0b6f4ff"
      },
      "execution_count": 268,
      "outputs": [
        {
          "output_type": "display_data",
          "data": {
            "text/plain": [
              "<Figure size 720x504 with 1 Axes>"
            ],
            "image/png": "[encoded data removed]"
          },
          "metadata": {
            "needs_background": "light"
          }
        }
      ]
    },
    {
      "cell_type": "markdown",
      "source": [
        "## 2. Building Model\n",
        "\n",
        "Our first pytorch model\n",
        "\n",
        "What our model does:\n",
        "* Start with rnadom values (weight and bias)\n",
        "* Look at training data and adjust the random values to better represent the ideal values\n",
        "\n",
        "How? \n",
        "\n",
        "Through two main algoritms: \n",
        "1. Gradient descent\n",
        "2. Backpropogation"
      ],
      "metadata": {
        "id": "Uf90MjnD4bqM"
      }
    },
    {
      "cell_type": "code",
      "source": [
        "# Create a linear regression model class\n",
        "\n",
        "class LinearRegressionModel(nn.Module): #<- everything from pytorch inherits from nn.modules \n",
        "  def __init__(self):\n",
        "    super().__init__()\n",
        "    self.weights = nn.Parameter(torch.randn(1, \n",
        "                                            requires_grad=True, \n",
        "                                            dtype=torch.float))\n",
        "    self.bias = nn.Parameter(torch.randn(1, \n",
        "                                            requires_grad=True, \n",
        "                                            dtype=torch.float))\n",
        "    \n",
        "  #Forward method to define the computation in the model\n",
        "  def forward(self, x: torch.Tensor) -> torch.Tensor: #<- y\n",
        "    return self.weights *x + self.bias\n"
      ],
      "metadata": {
        "id": "6qztqJR-szXT"
      },
      "execution_count": 269,
      "outputs": []
    },
    {
      "cell_type": "markdown",
      "source": [
        "## PyTorch Model building essentials \n",
        "\n",
        "* torch.nn - contains all of the building blocks for computational graphs (a neural network can be considered a computational graph)\n",
        "* torch.nn.Parameter - what parameters should our model try and learn, often a PyTorch layer from torch.nn will set these. \n",
        "* torch.nn.Module - the base class for all nueal network modules, if you subclass it, you should overwrite forward()\n",
        "* torch.optim - this is where the optimizers live and will help with gradient descent \n",
        "* def forward() - All nn.Module subclasses require you to overwrite forward(), this method defines what happens in the forward computation"
      ],
      "metadata": {
        "id": "GAhgP5-8_Deq"
      }
    },
    {
      "cell_type": "markdown",
      "source": [
        "### Checking the contents of our PyTorch model\n",
        "\n",
        "Can check whats inside model using .paramters()"
      ],
      "metadata": {
        "id": "bCUaBBQ_Bobu"
      }
    },
    {
      "cell_type": "code",
      "source": [
        "#Create random seed\n",
        "\n",
        "torch.manual_seed(42)\n",
        "\n",
        "#Create an instance of the model (this is a subclass of nn.Module)\n",
        "model_0 = LinearRegressionModel()\n",
        "\n",
        "#Check out parameters\n",
        "list(model_0.parameters())"
      ],
      "metadata": {
        "colab": {
          "base_uri": "https://localhost:8080/"
        },
        "id": "U7JN2Zl2FMDn",
        "outputId": "2132cf01-615a-47e4-8b6f-a128b2cfe605"
      },
      "execution_count": 270,
      "outputs": [
        {
          "output_type": "execute_result",
          "data": {
            "text/plain": [
              "[Parameter containing:\n",
              " tensor([0.3367], requires_grad=True), Parameter containing:\n",
              " tensor([0.1288], requires_grad=True)]"
            ]
          },
          "metadata": {},
          "execution_count": 270
        }
      ]
    },
    {
      "cell_type": "code",
      "source": [
        "# List name paramters\n",
        "model_0.state_dict()"
      ],
      "metadata": {
        "colab": {
          "base_uri": "https://localhost:8080/"
        },
        "id": "_u_0pNjeHALj",
        "outputId": "13101b89-947d-4a59-fad8-643d7af63d6a"
      },
      "execution_count": 271,
      "outputs": [
        {
          "output_type": "execute_result",
          "data": {
            "text/plain": [
              "OrderedDict([('weights', tensor([0.3367])), ('bias', tensor([0.1288]))])"
            ]
          },
          "metadata": {},
          "execution_count": 271
        }
      ]
    },
    {
      "cell_type": "markdown",
      "source": [
        "### Making prediction using 'torch.inference_mode()'\n",
        "\n",
        "To check our models's predictive power, lets see how well it predicts y test and x test\n",
        "\n",
        "When we pass data through our model it will run it through our forward model\n",
        "\n"
      ],
      "metadata": {
        "id": "2lC8wX7QHIHT"
      }
    },
    {
      "cell_type": "code",
      "source": [
        "X_test"
      ],
      "metadata": {
        "colab": {
          "base_uri": "https://localhost:8080/"
        },
        "id": "baZl-_WtIU8T",
        "outputId": "e4ed010b-390f-47fe-9242-05b930313c52"
      },
      "execution_count": 272,
      "outputs": [
        {
          "output_type": "execute_result",
          "data": {
            "text/plain": [
              "tensor([[0.8000],\n",
              "        [0.8200],\n",
              "        [0.8400],\n",
              "        [0.8600],\n",
              "        [0.8800],\n",
              "        [0.9000],\n",
              "        [0.9200],\n",
              "        [0.9400],\n",
              "        [0.9600],\n",
              "        [0.9800]])"
            ]
          },
          "metadata": {},
          "execution_count": 272
        }
      ]
    },
    {
      "cell_type": "code",
      "source": [
        "# Make predictions with model\n",
        "\n",
        "with torch.inference_mode():\n",
        "  y_preds = model_0(X_test)\n",
        "\n",
        "# You can also do something similar with torch.no_grad inference mode is pereferred\n",
        "#with torch.no_grad():\n",
        "#  y_preds = model_0(X_test)\n",
        "\n",
        "y_preds"
      ],
      "metadata": {
        "colab": {
          "base_uri": "https://localhost:8080/"
        },
        "id": "nOt3CoSFIFDN",
        "outputId": "256be627-a6e5-4c84-b0bb-8c19ddf18392"
      },
      "execution_count": 273,
      "outputs": [
        {
          "output_type": "execute_result",
          "data": {
            "text/plain": [
              "tensor([[0.3982],\n",
              "        [0.4049],\n",
              "        [0.4116],\n",
              "        [0.4184],\n",
              "        [0.4251],\n",
              "        [0.4318],\n",
              "        [0.4386],\n",
              "        [0.4453],\n",
              "        [0.4520],\n",
              "        [0.4588]])"
            ]
          },
          "metadata": {},
          "execution_count": 273
        }
      ]
    },
    {
      "cell_type": "code",
      "source": [
        "plot_predictions(predictions=y_preds)"
      ],
      "metadata": {
        "colab": {
          "base_uri": "https://localhost:8080/",
          "height": 428
        },
        "id": "WFdGbFCdYaD2",
        "outputId": "3b714d82-6e18-423d-d459-e809d76154ef"
      },
      "execution_count": 274,
      "outputs": [
        {
          "output_type": "display_data",
          "data": {
            "text/plain": [
              "<Figure size 720x504 with 1 Axes>"
            ],
            "image/png": "[encoded data removed]"
          },
          "metadata": {
            "needs_background": "light"
          }
        }
      ]
    },
    {
      "cell_type": "markdown",
      "source": [
        "## 3. Train model\n",
        "\n",
        "One way to measure how poor or how wring the models predictions are is to use a loss function \n",
        "\n",
        "* note: loss function may also be called cost function or criterion in our case we will refer to it as a loss function \n",
        "\n",
        "Things we need to train:\n",
        "\n",
        "* **Loss function:** A function to measure how winr your models predictions are compared to your models output -> lower is better\n",
        "* **Optimiser:** takes into account the loss of a model and adjusts the models paraters (e.g. weight and bias) to imporve the loss function \n",
        "\n",
        "And specically for PyTorch we need a:\n",
        "* a training loop\n",
        "* a testing loop\n"
      ],
      "metadata": {
        "id": "XCCdQ2FxaBTx"
      }
    },
    {
      "cell_type": "code",
      "source": [
        "model_0.state_dict()"
      ],
      "metadata": {
        "colab": {
          "base_uri": "https://localhost:8080/"
        },
        "id": "Da53VtRLakcO",
        "outputId": "f967e94d-60f0-4417-b5fd-81a9d54aee85"
      },
      "execution_count": 275,
      "outputs": [
        {
          "output_type": "execute_result",
          "data": {
            "text/plain": [
              "OrderedDict([('weights', tensor([0.3367])), ('bias', tensor([0.1288]))])"
            ]
          },
          "metadata": {},
          "execution_count": 275
        }
      ]
    },
    {
      "cell_type": "code",
      "source": [
        "abs(y_preds[0]-y_test[0])"
      ],
      "metadata": {
        "id": "5zGMRzfKbb1B",
        "outputId": "1d312ae5-92cd-49f1-8c59-bc2929a8e928",
        "colab": {
          "base_uri": "https://localhost:8080/"
        }
      },
      "execution_count": 276,
      "outputs": [
        {
          "output_type": "execute_result",
          "data": {
            "text/plain": [
              "tensor([0.4618])"
            ]
          },
          "metadata": {},
          "execution_count": 276
        }
      ]
    },
    {
      "cell_type": "code",
      "source": [
        "# Set up a loss function \n",
        "loss_fn = nn.L1Loss()\n",
        "\n",
        "# Set up an optimiser (sgd - stochastic gradient descent)\n",
        "optimizer = torch.optim.SGD(params = model_0.parameters(), \n",
        "                            lr =0.01) # lr = leanring rate = most important hyper parameters\n",
        "\n"
      ],
      "metadata": {
        "id": "5OpGxmav7y5-"
      },
      "execution_count": 277,
      "outputs": []
    },
    {
      "cell_type": "markdown",
      "source": [
        "### Building a Training and Testing Loop\n",
        "\n",
        "Things needed in a training loop:\n",
        "0. Loop through the data\n",
        "1. Forward pass (This involves data moveing through our models forward() functions (also called forward propogations)\n",
        "2. Calculate loss\n",
        "3. Optiser zero grad\n",
        "4. Loss backward - move backwards through the network to calculate the gradients of each pf the paremters with repsect to loss (**back propogation**)\n",
        "5. Optimiser step - use optimiser to adjust model paramters to reduce loss (**gradient descent**)"
      ],
      "metadata": {
        "id": "heYjZmvT_MJM"
      }
    },
    {
      "cell_type": "code",
      "source": [
        "torch.manual_seed(42)\n",
        "\n",
        "#from torch.optim import optimizer\n",
        "# An epoch is one loop through the data.... (hyper paramter as we've set it ourselves)\n",
        "epochs = 200\n",
        "\n",
        "epoch_count = []\n",
        "train_loss_values = []\n",
        "test_loss_values = []\n",
        "\n",
        "## Training \n",
        "# 0. loop through the data \n",
        "for epoch in range(epochs):\n",
        "  # Set the model to training model\n",
        "  model_0.train() # train mode in OyTorch sets all paremters that require gardients to require gradients\n",
        "\n",
        "  # 1. forward pass\n",
        "  y_pred = model_0(X_train)\n",
        "\n",
        "  # 2. calulate loss\n",
        "  loss = loss_fn(y_pred, y_train)\n",
        "  #print(loss)\n",
        "\n",
        "  # 3. Optimiser zero grad\n",
        "  optimizer.zero_grad()\n",
        "\n",
        "  # 4. Perform backward propogation on loss to paramter of the model\n",
        "  loss.backward()\n",
        "\n",
        "  # 5. Step the optimiser (perform gradient descent)\n",
        "  optimizer.step() # by defluat tell the optimiser changes will accumlate through the loop so.. we ahve to change them to zero in step 3\n",
        "\n",
        "  model_0.eval() # turns off gradient tracker\n",
        "\n",
        "  ###Testing \n",
        "  model_0.eval() #turns off the different settings in the model not need for evaluation/testing. (drop out/batch norm)\n",
        "  with torch.inference_mode(): # turns off gradient tracking and some other things behind the scenes. \n",
        "    #1. Forward pass\n",
        "    test_pred = model_0(X_test)\n",
        "\n",
        "    # 2. calculate the loss\n",
        "    test_loss = loss_fn(test_pred, y_test)\n",
        "  if epoch % 10 == 0:\n",
        "    epoch_count.append(epoch)\n",
        "    train_loss_values.append(loss)\n",
        "    test_loss_values.append(test_loss)\n",
        "    print(f\"Epoch: {epoch} | Test: {loss} | Test loss: {test_loss}\")\n",
        "    print(model_0.state_dict())\n"
      ],
      "metadata": {
        "id": "ehdBFECW_QnW"
      },
      "execution_count": null,
      "outputs": []
    },
    {
      "cell_type": "code",
      "source": [
        "import numpy as np\n",
        "train_loss_values = np.array(torch.tensor(train_loss_values).numpy())\n",
        "\n",
        "# plot loss curves\n",
        "\n",
        "plt.plot(epoch_count, train_loss_values, label=\"Train loss\")\n",
        "plt.plot(epoch_count, test_loss_values, label=\"Test loss\")\n",
        "plt.title(\"Training and Test loss curve\")\n",
        "plt.ylabel(\"loss\")\n",
        "plt.xlabel(\"epoch\")"
      ],
      "metadata": {
        "id": "W1mMCEBQ6Jmc",
        "outputId": "f85eb0ef-2907-4d6d-ba9d-bff12ce6c31d",
        "colab": {
          "base_uri": "https://localhost:8080/",
          "height": 312
        }
      },
      "execution_count": 279,
      "outputs": [
        {
          "output_type": "execute_result",
          "data": {
            "text/plain": [
              "Text(0.5, 0, 'epoch')"
            ]
          },
          "metadata": {},
          "execution_count": 279
        },
        {
          "output_type": "display_data",
          "data": {
            "text/plain": [
              "<Figure size 432x288 with 1 Axes>"
            ],
            "image/png": "[encoded data removed]"
          },
          "metadata": {
            "needs_background": "light"
          }
        }
      ]
    },
    {
      "cell_type": "code",
      "source": [
        "model_0.state_dict()"
      ],
      "metadata": {
        "id": "mVjD1CNv_EZm",
        "outputId": "dbdc9181-0c90-47da-83f5-b60aa283f291",
        "colab": {
          "base_uri": "https://localhost:8080/"
        }
      },
      "execution_count": 280,
      "outputs": [
        {
          "output_type": "execute_result",
          "data": {
            "text/plain": [
              "OrderedDict([('weights', tensor([0.6990])), ('bias', tensor([0.3093]))])"
            ]
          },
          "metadata": {},
          "execution_count": 280
        }
      ]
    },
    {
      "cell_type": "code",
      "source": [
        "with torch.inference_mode():\n",
        "  y_preds_new = model_0(X_test)"
      ],
      "metadata": {
        "id": "Fc1qh3Cf_bA_"
      },
      "execution_count": 281,
      "outputs": []
    },
    {
      "cell_type": "code",
      "source": [
        "model_0.state_dict()"
      ],
      "metadata": {
        "id": "RVGvvlgzAoBp",
        "outputId": "c2de724c-1879-4615-f294-66daebf00e68",
        "colab": {
          "base_uri": "https://localhost:8080/"
        }
      },
      "execution_count": 282,
      "outputs": [
        {
          "output_type": "execute_result",
          "data": {
            "text/plain": [
              "OrderedDict([('weights', tensor([0.6990])), ('bias', tensor([0.3093]))])"
            ]
          },
          "metadata": {},
          "execution_count": 282
        }
      ]
    },
    {
      "cell_type": "code",
      "source": [
        "plot_predictions(predictions=y_preds_new)"
      ],
      "metadata": {
        "id": "qwvM8g6FAST7",
        "outputId": "ed76589c-c4a9-4273-ac99-1fcc3301a4d0",
        "colab": {
          "base_uri": "https://localhost:8080/",
          "height": 428
        }
      },
      "execution_count": 283,
      "outputs": [
        {
          "output_type": "display_data",
          "data": {
            "text/plain": [
              "<Figure size 720x504 with 1 Axes>"
            ],
            "image/png": "[encoded data removed]"
          },
          "metadata": {
            "needs_background": "light"
          }
        }
      ]
    },
    {
      "cell_type": "code",
      "source": [],
      "metadata": {
        "id": "g2mKuuvoAgi4"
      },
      "execution_count": 283,
      "outputs": []
    }
  ]
}