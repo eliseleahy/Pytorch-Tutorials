{
  "nbformat": 4,
  "nbformat_minor": 0,
  "metadata": {
    "colab": {
      "provenance": [],
      "authorship_tag": "ABX9TyOtA8uNGJxBtonJnvZT5Std",
      "include_colab_link": true
    },
    "kernelspec": {
      "name": "python3",
      "display_name": "Python 3"
    },
    "language_info": {
      "name": "python"
    }
  },
  "cells": [
    {
      "cell_type": "markdown",
      "metadata": {
        "id": "view-in-github",
        "colab_type": "text"
      },
      "source": [
        "<a href=\"https://colab.research.google.com/github/eliseleahy/Pytorch-Tutorials/blob/main/Object_Orientated_Programming_Tutorial.ipynb\" target=\"_parent\"><img src=\"https://colab.research.google.com/assets/colab-badge.svg\" alt=\"Open In Colab\"/></a>"
      ]
    },
    {
      "cell_type": "markdown",
      "source": [
        "Object orientated programming tutorial from Real Python -  https://realpython.com/python3-object-oriented-programming/"
      ],
      "metadata": {
        "id": "GOdPyN3J0R5r"
      }
    },
    {
      "cell_type": "code",
      "execution_count": 1,
      "metadata": {
        "id": "16MfhbaXwUeB"
      },
      "outputs": [],
      "source": [
        "class Dog:\n",
        "  pass"
      ]
    },
    {
      "cell_type": "code",
      "source": [
        "Dog()"
      ],
      "metadata": {
        "colab": {
          "base_uri": "https://localhost:8080/"
        },
        "id": "yFhtpWMy0Brf",
        "outputId": "ce18e56a-3689-4696-89e5-3b7e92a2c76d"
      },
      "execution_count": 2,
      "outputs": [
        {
          "output_type": "execute_result",
          "data": {
            "text/plain": [
              "<__main__.Dog at 0x7f03fecb2cd0>"
            ]
          },
          "metadata": {},
          "execution_count": 2
        }
      ]
    },
    {
      "cell_type": "code",
      "source": [
        "Dog()"
      ],
      "metadata": {
        "colab": {
          "base_uri": "https://localhost:8080/"
        },
        "id": "J4IfrM510Dge",
        "outputId": "236c25c3-b81a-41bb-ecbc-d04b77d8cf3b"
      },
      "execution_count": 3,
      "outputs": [
        {
          "output_type": "execute_result",
          "data": {
            "text/plain": [
              "<__main__.Dog at 0x7f03fecb2a60>"
            ]
          },
          "metadata": {},
          "execution_count": 3
        }
      ]
    },
    {
      "cell_type": "code",
      "source": [
        "a=Dog()\n",
        "b=Dog()\n",
        "a==b"
      ],
      "metadata": {
        "colab": {
          "base_uri": "https://localhost:8080/"
        },
        "id": "-aK5YU_a0KAC",
        "outputId": "582a925f-7e14-477c-ef12-f6d7a9f213fc"
      },
      "execution_count": 4,
      "outputs": [
        {
          "output_type": "execute_result",
          "data": {
            "text/plain": [
              "False"
            ]
          },
          "metadata": {},
          "execution_count": 4
        }
      ]
    },
    {
      "cell_type": "code",
      "source": [
        "class Dog:\n",
        "  species=\"Canis Familiaris\"\n",
        "  def __init__(self, name, age):\n",
        "    self.name = name\n",
        "    self.age = age"
      ],
      "metadata": {
        "id": "2UN2Ukqe0QYS"
      },
      "execution_count": 5,
      "outputs": []
    },
    {
      "cell_type": "code",
      "source": [
        "Dog()"
      ],
      "metadata": {
        "colab": {
          "base_uri": "https://localhost:8080/",
          "height": 165
        },
        "id": "CZX_GtRy0xvR",
        "outputId": "4f4bad6d-ac96-479a-fea6-7585df378e5d"
      },
      "execution_count": 6,
      "outputs": [
        {
          "output_type": "error",
          "ename": "TypeError",
          "evalue": "ignored",
          "traceback": [
            "\u001b[0;31m---------------------------------------------------------------------------\u001b[0m",
            "\u001b[0;31mTypeError\u001b[0m                                 Traceback (most recent call last)",
            "\u001b[0;32m<ipython-input-6-2dced99f65a6>\u001b[0m in \u001b[0;36m<module>\u001b[0;34m\u001b[0m\n\u001b[0;32m----> 1\u001b[0;31m \u001b[0mDog\u001b[0m\u001b[0;34m(\u001b[0m\u001b[0;34m)\u001b[0m\u001b[0;34m\u001b[0m\u001b[0;34m\u001b[0m\u001b[0m\n\u001b[0m",
            "\u001b[0;31mTypeError\u001b[0m: __init__() missing 2 required positional arguments: 'name' and 'age'"
          ]
        }
      ]
    },
    {
      "cell_type": "code",
      "source": [
        "toby = Dog(\"Toby\", 1)\n",
        "jasper = Dog(\"Jasper\", 2)"
      ],
      "metadata": {
        "id": "fTKW5_TM008f"
      },
      "execution_count": 9,
      "outputs": []
    },
    {
      "cell_type": "code",
      "source": [
        "toby.age, jasper.name"
      ],
      "metadata": {
        "colab": {
          "base_uri": "https://localhost:8080/"
        },
        "id": "urqmzFYm1HeN",
        "outputId": "57c373d1-e3ed-40c5-9fea-6c4b840dd051"
      },
      "execution_count": 10,
      "outputs": [
        {
          "output_type": "execute_result",
          "data": {
            "text/plain": [
              "(1, 'Jasper')"
            ]
          },
          "metadata": {},
          "execution_count": 10
        }
      ]
    },
    {
      "cell_type": "code",
      "source": [
        "toby.species"
      ],
      "metadata": {
        "colab": {
          "base_uri": "https://localhost:8080/",
          "height": 36
        },
        "id": "nx8Fblbk1O_h",
        "outputId": "7d7f8da0-6b1b-439c-d760-169ec57e4806"
      },
      "execution_count": 11,
      "outputs": [
        {
          "output_type": "execute_result",
          "data": {
            "text/plain": [
              "'Canis Familiaris'"
            ],
            "application/vnd.google.colaboratory.intrinsic+json": {
              "type": "string"
            }
          },
          "metadata": {},
          "execution_count": 11
        }
      ]
    },
    {
      "cell_type": "code",
      "source": [
        "class Dog:\n",
        "  species = \"Canis familiaris\"\n",
        "\n",
        "  def __init__(self, name, age):\n",
        "    self.name = name\n",
        "    self.age = age\n",
        "\n",
        "  # Instance method\n",
        "  def __str__(self):\n",
        "    return f\"{self.name} is {self.age} years old\"\n",
        "\n",
        "  # Another instance method\n",
        "  def speak (self, sound): \n",
        "    return f\"{self.name} says {sound}\" \n",
        "\n",
        "  \n"
      ],
      "metadata": {
        "id": "0LFiQJbf1S73"
      },
      "execution_count": 17,
      "outputs": []
    },
    {
      "cell_type": "code",
      "source": [
        "miles = Dog(\"Miles\", 4)\n",
        "\n",
        "print(miles)"
      ],
      "metadata": {
        "colab": {
          "base_uri": "https://localhost:8080/"
        },
        "id": "Cl4e4uFa3CWn",
        "outputId": "d3bfa0b1-1483-4706-dd26-38a2640f048e"
      },
      "execution_count": 18,
      "outputs": [
        {
          "output_type": "stream",
          "name": "stdout",
          "text": [
            "Miles is 4 years old\n"
          ]
        }
      ]
    },
    {
      "cell_type": "code",
      "source": [
        "class Dog:\n",
        "  species = \"Canis familiaris\"\n",
        "\n",
        "  def __init__(self, name, age):\n",
        "    self.name = name\n",
        "    self.age = age\n",
        "\n",
        "  # Instance method\n",
        "  def __str__(self):\n",
        "    return f\"{self.name} is {self.age} years old\"\n",
        "\n",
        "  # Another instance method\n",
        "  def speak (self, sound): \n",
        "    return f\"{self.name} says {sound}\" "
      ],
      "metadata": {
        "id": "8Mmj-zbN4AtQ"
      },
      "execution_count": 25,
      "outputs": []
    },
    {
      "cell_type": "code",
      "source": [
        "class JackRussellTerrier(Dog):\n",
        "    pass\n",
        "\n",
        "class Dachshund(Dog):\n",
        "    pass\n",
        "\n",
        "class Bulldog(Dog):\n",
        "    pass"
      ],
      "metadata": {
        "id": "1tREynzK4Uu7"
      },
      "execution_count": 26,
      "outputs": []
    },
    {
      "cell_type": "code",
      "source": [
        "miles = JackRussellTerrier(\"Miles\", 4)\n",
        "buddy = Dachshund(\"Buddy\", 9)\n",
        "jack = Bulldog(\"Jack\", 3)\n",
        "jim = Bulldog(\"Jim\", 5)"
      ],
      "metadata": {
        "id": "MztrQ4g75huP"
      },
      "execution_count": 27,
      "outputs": []
    },
    {
      "cell_type": "code",
      "source": [
        "type(miles)"
      ],
      "metadata": {
        "colab": {
          "base_uri": "https://localhost:8080/"
        },
        "id": "wuXd9AEC5nhY",
        "outputId": "1b05f49a-8d51-42e6-8c1c-e8618faad423"
      },
      "execution_count": 28,
      "outputs": [
        {
          "output_type": "execute_result",
          "data": {
            "text/plain": [
              "__main__.JackRussellTerrier"
            ]
          },
          "metadata": {},
          "execution_count": 28
        }
      ]
    },
    {
      "cell_type": "code",
      "source": [
        "isinstance(miles,Dog), isinstance(miles, Bulldog)"
      ],
      "metadata": {
        "colab": {
          "base_uri": "https://localhost:8080/"
        },
        "id": "y6us3its5p_L",
        "outputId": "d82351ef-9b6b-4404-bce1-438d7e35a0a2"
      },
      "execution_count": 30,
      "outputs": [
        {
          "output_type": "execute_result",
          "data": {
            "text/plain": [
              "(True, False)"
            ]
          },
          "metadata": {},
          "execution_count": 30
        }
      ]
    },
    {
      "cell_type": "code",
      "source": [
        "class JackRussellTerrier(Dog):\n",
        "    def speak(self, sound=\"Arf\"):\n",
        "      return f\"{self.name} says {sound}\""
      ],
      "metadata": {
        "id": "3ZvxoiK27JVg"
      },
      "execution_count": 31,
      "outputs": []
    },
    {
      "cell_type": "code",
      "source": [
        "miles = JackRussellTerrier(\"Miles\", 4)\n",
        "miles.speak()"
      ],
      "metadata": {
        "colab": {
          "base_uri": "https://localhost:8080/",
          "height": 36
        },
        "id": "wsvum4a17X35",
        "outputId": "ff28d97a-17bd-4262-917f-015e4d043e37"
      },
      "execution_count": 32,
      "outputs": [
        {
          "output_type": "execute_result",
          "data": {
            "text/plain": [
              "'Miles says Arf'"
            ],
            "application/vnd.google.colaboratory.intrinsic+json": {
              "type": "string"
            }
          },
          "metadata": {},
          "execution_count": 32
        }
      ]
    },
    {
      "cell_type": "code",
      "source": [
        "class Dog:\n",
        "  species = \"Canis familiaris\"\n",
        "\n",
        "  def __init__(self, name, age):\n",
        "    self.name = name\n",
        "    self.age = age\n",
        "\n",
        "  # Instance method\n",
        "  def __str__(self):\n",
        "    return f\"{self.name} is {self.age} years old\"\n",
        "\n",
        "  # Another instance method\n",
        "  def speak (self, sound): \n",
        "    return f\"{self.name} says {sound}\" "
      ],
      "metadata": {
        "id": "m0wAj4e47wsx"
      },
      "execution_count": 33,
      "outputs": []
    },
    {
      "cell_type": "code",
      "source": [
        "jim = Bulldog(\"Jim\", 5)\n",
        "jim.speak(\"Woof\")"
      ],
      "metadata": {
        "colab": {
          "base_uri": "https://localhost:8080/",
          "height": 36
        },
        "id": "dVrl_n-J77Mg",
        "outputId": "6d6d26ba-e153-4a44-c854-839354a544f5"
      },
      "execution_count": 34,
      "outputs": [
        {
          "output_type": "execute_result",
          "data": {
            "text/plain": [
              "'Jim says Woof'"
            ],
            "application/vnd.google.colaboratory.intrinsic+json": {
              "type": "string"
            }
          },
          "metadata": {},
          "execution_count": 34
        }
      ]
    },
    {
      "cell_type": "code",
      "source": [
        "class JackRussellTerrier(Dog):\n",
        "    def speak(self, sound=\"Arf\"):\n",
        "      return super().speak(sound)"
      ],
      "metadata": {
        "id": "WA8-yl4K8Z_n"
      },
      "execution_count": 35,
      "outputs": []
    }
  ]
}